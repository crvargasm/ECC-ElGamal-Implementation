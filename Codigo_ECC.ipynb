{
  "nbformat": 4,
  "nbformat_minor": 0,
  "metadata": {
    "colab": {
      "name": "Codigo ECC.ipynb",
      "provenance": []
    },
    "kernelspec": {
      "name": "python3",
      "display_name": "Python 3"
    }
  },
  "cells": [
    {
      "cell_type": "code",
      "metadata": {
        "colab": {
          "base_uri": "https://localhost:8080/"
        },
        "id": "aMMGwXE-mAYr",
        "outputId": "9af0a3ea-9139-4f38-c3a5-2e45ff1a6df6"
      },
      "source": [
        "#curva: y^2=x^3+x+6, es decir a=1, b=6\n",
        "import math\n",
        "import random\n",
        "\n",
        "def isPrime(n):\n",
        "  if (n==2):\n",
        "    return True\n",
        "  if (n%2==0):\n",
        "     return False\n",
        "  for j in range(3,int(n/2)):\n",
        "   if (n%j==0):\n",
        "     return False\n",
        "   else:\n",
        "     j+=2  \n",
        "  return True\n",
        "\n",
        "#Funcion que verifica si a es congruente con b modulo c\n",
        "def verificarCongruencia(a,b,c):\n",
        "  if a%c==b%c:\n",
        "    return True\n",
        "  return False\n",
        "\n",
        "def generarPrimo():\n",
        "  #inicializando primo\n",
        "  minimo = 3\n",
        "  maxiMar = 20000\n",
        "  arregloPrimos = [i for i in range(minimo,maxiMar) if isPrime(i)]\n",
        "\n",
        "  \n",
        "  #Generamos el primo aleatorio p\n",
        "  p = random.choice([i for i in arregloPrimos])\n",
        "  if verificarCongruencia(4+27*(6**2),0,p)==False:\n",
        "    return p\n",
        "  else:\n",
        "    return generarPrimo()\n",
        "\n",
        "def isRaizExacta(n):\n",
        "  #Método de Newton: https://stackoverflow.com/questions/15390807/integer-square-root-in-python\n",
        "    x = n\n",
        "    y = (x + 1) // 2\n",
        "    while y < x:\n",
        "        x = y\n",
        "        y = (x + n // x) // 2\n",
        "    return x*x==n\n",
        "\n",
        "def generarGenerador(n):\n",
        "  x = random.randint(0,n-1)\n",
        "  y = ((x**3)+x+6)\n",
        "  y_1 = ((x**3)+x+6)%n\n",
        "  \n",
        "\n",
        "  if isRaizExacta(y):\n",
        "    y_aux = y\n",
        "  elif isRaizExacta(y_1):\n",
        "    y_aux = y_1\n",
        "  else:\n",
        "    return generarGenerador(n);\n",
        "  return [x,int(math.sqrt(y_aux))];\n",
        "\n",
        "def multiplicarPunto(x,y,n):\n",
        "  lambd_a = int(((3*x*x)+1)/2*y)\n",
        "  x_3=(lambd_a*lambd_a)%n\n",
        "  y_3=((lambd_a*(x-x_3))-y)%n\n",
        "  return x_3,y_3;\n",
        "\n",
        "def retornarG():\n",
        "  primo = generarPrimo() \n",
        "  x,y=generarGenerador(primo)\n",
        "  return [primo,multiplicarPunto(x,y,primo)]\n",
        "\n",
        "#Teniendo en cuenta la curva y^2=x^3+x+6, el sistema retorna un primo aleatorio entre 3 y 20000, el cual sera restriccion del conjunto de puntos \n",
        "#solucion de la curva tales que x e y son enteros, este mismo retorna el punto generador escogido aleatoriamente en base de este conjunto de puntos\n",
        "# de la forma {primo,{x,y}}, gracias\n",
        "\n",
        "aux = retornarG()\n",
        "print(aux)\n",
        "print(aux[1])\n",
        "print(aux[1][1])\n",
        "\n",
        "\n"
      ],
      "execution_count": null,
      "outputs": [
        {
          "output_type": "stream",
          "text": [
            "[2113, (1671, 1232)]\n",
            "(1671, 1232)\n",
            "1232\n"
          ],
          "name": "stdout"
        }
      ]
    }
  ]
}