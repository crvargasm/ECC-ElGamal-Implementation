{
  "nbformat": 4,
  "nbformat_minor": 0,
  "metadata": {
    "colab": {
      "name": "Descomposicion Sintáctica.ipynb",
      "provenance": [],
      "collapsed_sections": []
    },
    "kernelspec": {
      "name": "python3",
      "display_name": "Python 3"
    }
  },
  "cells": [
    {
      "cell_type": "code",
      "metadata": {
        "colab": {
          "base_uri": "https://localhost:8080/",
          "height": 52
        },
        "id": "ZDdvVn0cJAWt",
        "outputId": "2680e95b-f89e-410e-a0a0-72ad27f441af"
      },
      "source": [
        "%reset\n",
        "alfabeto=['A','B','C','D','E','F','G','H','I','J','K','L','M','N','O','P','Q','R','S','T','U','V','W','X','Y','Z']\n",
        "orden = 26\n",
        "\n",
        "def MaxNumP(num):\n",
        "  for i in range(0, num + 1):\n",
        "    potencia = pow(orden, i)\n",
        "    if potencia > num:\n",
        "      return i-1\n",
        "      \n",
        "def MaxNumM(num, a):\n",
        "  for i in range(0, orden+1):\n",
        "    producto = i * pow(orden, a)\n",
        "    if producto > num:\n",
        "      return i - 1\n",
        "\n",
        "def descipher(number):\n",
        "  pMayor = MaxNumP(number)\n",
        "  i = pMayor - 1\n",
        "  resto = number - (MaxNumM(number, pMayor) * pow(orden, pMayor))\n",
        "\n",
        "  desc = [MaxNumM(number, pMayor)]\n",
        "  while i >=0:\n",
        "    factor = MaxNumM(resto, i) * pow(orden, i)\n",
        "    desc.append(MaxNumM(resto, i))\n",
        "    resto = resto - factor\n",
        "    i -= 1\n",
        "  texto = \"\"\n",
        "  for i in range(len(desc)):\n",
        "    texto+=(alfabeto[desc[i]])\n",
        "  return texto\n",
        "\n",
        "descipher(132782)"
      ],
      "execution_count": null,
      "outputs": [
        {
          "output_type": "stream",
          "text": [
            "Once deleted, variables cannot be recovered. Proceed (y/[n])? y\n"
          ],
          "name": "stdout"
        },
        {
          "output_type": "execute_result",
          "data": {
            "application/vnd.google.colaboratory.intrinsic+json": {
              "type": "string"
            },
            "text/plain": [
              "'HOLA'"
            ]
          },
          "metadata": {
            "tags": []
          },
          "execution_count": 12
        }
      ]
    }
  ]
}